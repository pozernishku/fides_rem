{
 "cells": [
  {
   "cell_type": "code",
   "execution_count": null,
   "metadata": {},
   "outputs": [],
   "source": []
  },
  {
   "cell_type": "code",
   "execution_count": null,
   "metadata": {},
   "outputs": [],
   "source": []
  },
  {
   "cell_type": "code",
   "execution_count": null,
   "metadata": {},
   "outputs": [],
   "source": []
  },
  {
   "cell_type": "code",
   "execution_count": null,
   "metadata": {},
   "outputs": [],
   "source": []
  },
  {
   "cell_type": "code",
   "execution_count": null,
   "metadata": {},
   "outputs": [],
   "source": []
  },
  {
   "cell_type": "code",
   "execution_count": null,
   "metadata": {},
   "outputs": [],
   "source": []
  },
  {
   "cell_type": "code",
   "execution_count": null,
   "metadata": {},
   "outputs": [],
   "source": []
  },
  {
   "cell_type": "code",
   "execution_count": null,
   "metadata": {},
   "outputs": [],
   "source": []
  },
  {
   "cell_type": "code",
   "execution_count": null,
   "metadata": {},
   "outputs": [],
   "source": []
  },
  {
   "cell_type": "code",
   "execution_count": null,
   "metadata": {},
   "outputs": [],
   "source": []
  },
  {
   "cell_type": "code",
   "execution_count": null,
   "metadata": {},
   "outputs": [],
   "source": []
  },
  {
   "cell_type": "code",
   "execution_count": null,
   "metadata": {},
   "outputs": [],
   "source": []
  },
  {
   "cell_type": "code",
   "execution_count": null,
   "metadata": {},
   "outputs": [],
   "source": []
  },
  {
   "cell_type": "code",
   "execution_count": null,
   "metadata": {},
   "outputs": [],
   "source": []
  },
  {
   "cell_type": "code",
   "execution_count": null,
   "metadata": {},
   "outputs": [],
   "source": []
  },
  {
   "cell_type": "code",
   "execution_count": null,
   "metadata": {},
   "outputs": [],
   "source": [
    "'''\n",
    "What's the complete range for Chinese characters in Unicode?\n",
    "https://stackoverflow.com/questions/1366068/whats-the-complete-range-for-chinese-characters-in-unicode\n",
    "\n",
    "U+4E00..U+9FFF is part of the complete set,but not all\n",
    "\n",
    "https://en.wikipedia.org/wiki/CJK_Unified_Ideographs\n",
    "https://en.wikipedia.org/wiki/Unicode\n",
    "https://en.wikipedia.org/wiki/Code_point\n",
    "https://en.wikipedia.org/wiki/List_of_Unicode_characters\n",
    "https://en.wikipedia.org/wiki/Universal_Character_Set_characters\n",
    "https://en.wikipedia.org/wiki/Plane_(Unicode)\n",
    "https://en.wikipedia.org/wiki/Unicode_block\n",
    "The Unicode Standard supports all of the CJK characters from JIS X 0208, JIS X 0212, JIS X 0221, or JIS X 0213, \n",
    "for example, and many more. http://www.unicode.org/faq/han_cjk.html\n",
    "\n",
    "Blocks Containing Han Ideographs\n",
    "Han ideographic characters are found in five main blocks of the Unicode Standard, as shown in Table 12-2\n",
    "Table 12-2. Blocks Containing Han Ideographs\n",
    "\n",
    "\n",
    "Encoding in Python https://realpython.com/python-encodings-guide/\n",
    "Charsets selection http://unicode.org/reports/tr18/\n",
    "------------------\n",
    "Block                                   Range       Comment\n",
    "CJK Unified Ideographs                  4E00-9FFF   Common\n",
    "CJK Unified Ideographs Extension A      3400-4DBF   Rare\n",
    "CJK Unified Ideographs Extension B      20000-2A6DF Rare, historic\n",
    "CJK Unified Ideographs Extension C      2A700–2B73F Rare, historic\n",
    "CJK Unified Ideographs Extension D      2B740–2B81F Uncommon, some in current use\n",
    "CJK Unified Ideographs Extension E      2B820–2CEAF Rare, historic\n",
    "CJK Compatibility Ideographs            F900-FAFF   Duplicates, unifiable variants, corporate characters\n",
    "CJK Compatibility Ideographs Supplement 2F800-2FA1F Unifiable variants\n",
    "\n",
    "Addition from https://medium.com/the-artificial-impostor/detecting-chinese-characters-in-unicode-strings-4ac839ba313a\n",
    "\n",
    "Hiragana                                3040-309F   Japanese [3]\n",
    "Katakana                                30A0-30FF   Japanese [3]\n",
    "Hangul Syllables                        AC00-D7A3   Korean [4]\n",
    "------------------\n",
    "\n",
    "\n",
    "\n",
    "Latin & Cyrillic\n",
    "https://en.wikipedia.org/wiki/Latin_script_in_Unicode\n",
    "https://en.wikipedia.org/wiki/Cyrillic_script_in_Unicode\n",
    "\n",
    "\n",
    "'''"
   ]
  },
  {
   "cell_type": "code",
   "execution_count": null,
   "metadata": {},
   "outputs": [],
   "source": []
  },
  {
   "cell_type": "code",
   "execution_count": null,
   "metadata": {},
   "outputs": [],
   "source": [
    "dashes_set = {'–','—','―','−','‐','─','⁃','-'}\n",
    "period = '.'\n",
    "ampersand = '&'\n",
    "apostrophe_set = {\"'\",'‵',\"’\",'‘','´','`','′'}\n",
    "digits_set = {'0','1','2','3','4','5','6','7','8','9'}"
   ]
  },
  {
   "cell_type": "code",
   "execution_count": null,
   "metadata": {},
   "outputs": [],
   "source": [
    "fr_items = [('abf年', 5, 'https://test.com'),\n",
    " ('bla00@', 11, 'https://test.com'),\n",
    " ('Ɫ⁹ñ', 10, 'https://test.com'),\n",
    " ('boeing', 9, 'https://test.com'),\n",
    " ('在查尔', 8, 'https://test.com'),\n",
    " ('2009年', 8, 'https://test.com'),\n",
    " ('ABc-2波', 8, 'https://test.com'),\n",
    " ('boeing', 7, 'https://test.com'),\n",
    " ('test', 7, 'https://test.com'),\n",
    " ('2019', 6, 'xxx.com'),\n",
    " ('3xxx', 6, 'yyy.ocm'),\n",
    " ('раздватри', 5, 'yyyxxx.com'),\n",
    " ('joker', 3, 'ssyyy.ocm'),\n",
    " ('t-公.Г', 2, 'kkkcom.com'),\n",
    " ('时-', 1, 'sun.ocm')]"
   ]
  },
  {
   "cell_type": "code",
   "execution_count": null,
   "metadata": {},
   "outputs": [],
   "source": [
    "fr_items = [('ab音音', 5, 'https://test.com'),\n",
    " ('@#ﬀ\\\\:/´‵&.⁃ꙔꓔＧᵵصضطã音-9年', 11, 'https://test.com'),\n",
    " ('Ɫ⁹ñ波音公司', 10, 'https://test.com'),\n",
    " ('boeing', 9, 'https://test.com'),\n",
    " ('在查尔斯顿附近的新厂破土动工时', 1, 'https://test.com'),\n",
    " ('2009年', 8, 'https://test.com'),\n",
    " ('波音公司', 8, 'https://test.com'),\n",
    " ('boeing', 7, 'https://test.com'),\n",
    " ('在查尔斯顿附近的新厂破土动工时', 7, 'https://test.com'),\n",
    " ('2tsss', 6, 'xxx.com'),\n",
    " ('2tsss', 6, 'xxx.com'),\n",
    " ('3xxx', 6, 'yyy.ocm'),\n",
    " ('2t公Бss', 5, 'yyyxxx.com'),\n",
    " ('xxД破土x', 3, 'ssyyy.ocm'),\n",
    " ('t-公.Г', 2, 'kkkcom.com'),\n",
    " ('时-', 1, 'sun.ocm')]"
   ]
  },
  {
   "cell_type": "code",
   "execution_count": null,
   "metadata": {},
   "outputs": [],
   "source": [
    "fr_items = [('アクセスマップはコチラ', 4, 'http://0120561092.com'),\n",
    "('tel', 4, 'http://0120561092.com'),\n",
    "('営業', 4, 'http://0120561092.com'),\n",
    "('10時', 4, 'http://0120561092.com'),\n",
    "('19時', 4, 'http://0120561092.com'),\n",
    "('japan', 3, 'http://0120561092.com'),\n",
    "('ジュエリー', 3, 'http://0120561092.com'),\n",
    "('火曜定休', 3, 'http://0120561092.com'),\n",
    "('gold', 2, 'http://0120561092.com'),\n",
    "('松山本店', 2, 'http://0120561092.com'),\n",
    "('今治店', 2, 'http://0120561092.com'),\n",
    "('新居浜店', 2, 'http://0120561092.com'),\n",
    "('宮崎店', 2, 'http://0120561092.com'),\n",
    "('メール会員登録', 2, 'http://0120561092.com'),\n",
    "('よくあるご質問', 2, 'http://0120561092.com'),\n",
    "('お客様の声', 2, 'http://0120561092.com'),\n",
    "('ブランド品', 2, 'http://0120561092.com'),\n",
    "('グッチ', 2, 'http://0120561092.com'),\n",
    "('エルメス', 2, 'http://0120561092.com'),\n",
    "('ヴィトン', 2, 'http://0120561092.com'),\n",
    "('お問い合わせ', 2, 'http://0120561092.com'),\n",
    "('個人情報保護方針', 2, 'http://0120561092.com'),\n",
    "('運営会社', 2, 'http://0120561092.com'),\n",
    "('商品の詳細', 1, 'http://0120561092.com'),\n",
    "('愛媛で金', 1, 'http://0120561092.com'),\n",
    "('時計', 1, 'http://0120561092.com'),\n",
    "('ブランド売るなら買取り専門店ゴールドジャパン', 1, 'http://0120561092.com'),\n",
    "('javascript', 1, 'http://0120561092.com'),\n",
    "('を有効にしてご利用下さい', 1, 'http://0120561092.com'),\n",
    "('金やダイヤ', 1, 'http://0120561092.com'),\n",
    "('ブランド品の高価買取は愛媛のgold', 1, 'http://0120561092.com'),\n",
    "('ゴールドジャパン', 1, 'http://0120561092.com'),\n",
    "('topページへ', 1, 'http://0120561092.com'),\n",
    "('法人様専用窓口', 1, 'http://0120561092.com'),\n",
    "('店頭買取はこちら', 1, 'http://0120561092.com'),\n",
    "('郵送買取はこちら', 1, 'http://0120561092.com'),\n",
    "('出張買取はこちら', 1, 'http://0120561092.com'),\n",
    "('01月15日', 1, 'http://0120561092.com'),\n",
    "('k24インゴット', 1, 'http://0120561092.com'),\n",
    "('pt1000インゴット', 1, 'http://0120561092.com'),\n",
    "('ゴールドジャパンブログ', 1, 'http://0120561092.com'),\n",
    "('ゴールドジャパンスタッフブログ', 1, 'http://0120561092.com'),\n",
    "('店長ブログ', 1, 'http://0120561092.com'),\n",
    "('松山市で金のweb査定申込', 1, 'http://0120561092.com'),\n",
    "('松山市で金のfax査定申込', 1, 'http://0120561092.com'),\n",
    "('ブランド一覧', 1, 'http://0120561092.com'),\n",
    "('初めてのお客様', 1, 'http://0120561092.com'),\n",
    "('金に関する知識', 1, 'http://0120561092.com'),\n",
    "('腕時計のお手入れについて', 1, 'http://0120561092.com'),\n",
    "('ダイヤモンド買取の予備知識', 1, 'http://0120561092.com'),\n",
    "('ブランドバッグのお手入れ方法', 1, 'http://0120561092.com'),\n",
    "('金かメッキかを見分ける方法', 1, 'http://0120561092.com'),\n",
    "('時計を高額査定してもらうためのポイント', 1, 'http://0120561092.com'),\n",
    "('ブランド腕時計が持つメリット', 1, 'http://0120561092.com'),\n",
    "('貴金属', 1, 'http://0120561092.com'),\n",
    "('宝石買取りの予備知識', 1, 'http://0120561092.com'),\n",
    "('偽物ブランド品を見分ける方法とは', 1, 'http://0120561092.com'),\n",
    "('壊れていても買取りできる貴金属', 1, 'http://0120561092.com'),\n",
    "('時計について', 1, 'http://0120561092.com'),\n",
    "('時計買取りの予備知識', 1, 'http://0120561092.com'),\n",
    "('ロレックス買取り', 1, 'http://0120561092.com'),\n",
    "('デイトジャスト', 1, 'http://0120561092.com'),\n",
    "('デイトナ', 1, 'http://0120561092.com'),\n",
    "('デイデイト', 1, 'http://0120561092.com'),\n",
    "('サブマリーナ', 1, 'http://0120561092.com'),\n",
    "('ジャンクのデイトジャストも買取りok', 1, 'http://0120561092.com'),\n",
    "('金', 1, 'http://0120561092.com'),\n",
    "('プラチナの刻印の意味', 1, 'http://0120561092.com'),\n",
    "('ダイヤなどの宝石からk18まで高価買取り中', 1, 'http://0120561092.com'),\n",
    "('シャネルなどを個人売却するリスク', 1, 'http://0120561092.com'),\n",
    "('ロレックスやシャネルなどのハイブランドはコピーに注意', 1, 'http://0120561092.com'),\n",
    "('プラチナは金に負けない貴金属', 1, 'http://0120561092.com'),\n",
    "('ファンシーカラーについて', 1, 'http://0120561092.com'),\n",
    "('カルティエの魅力', 1, 'http://0120561092.com'),\n",
    "('シャネルの魅力', 1, 'http://0120561092.com'),\n",
    "('過去の買取商品の一例', 1, 'http://0120561092.com'),\n",
    "('コピー品撲滅', 1, 'http://0120561092.com'),\n",
    "('ご注意ください', 1, 'http://0120561092.com'),\n",
    "('ブランド販売はtenko楽天市場店へ', 1, 'http://0120561092.com'),\n",
    "('ブランド販売のtenkoヤフー店へ', 1, 'http://0120561092.com'),\n",
    "('ブランド販売のtenkoヤフーオークション店へ', 1, 'http://0120561092.com'),\n",
    "('貴金属買取.biz', 1, 'http://0120561092.com'),\n",
    "('フルラのミニパイパーを買取りました', 1, 'http://0120561092.com'),\n",
    "('松山市山越3', 1, 'http://0120561092.com'),\n",
    "('マリンビル1f', 1, 'http://0120561092.com'),\n",
    "('年中無休', 1, 'http://0120561092.com'),\n",
    "('今治市中寺256', 1, 'http://0120561092.com'),\n",
    "('新居浜市西の土居町1', 1, 'http://0120561092.com')]"
   ]
  },
  {
   "cell_type": "code",
   "execution_count": null,
   "metadata": {},
   "outputs": [],
   "source": [
    "'''\n",
    "оставить языки которые используют:\n",
    "- латиницу\n",
    "- русский\n",
    "\n",
    "Filter used in fr_dist_with_domain which drops out frequency distributions \n",
    "with low language percent of cyrillic or latin chars.\n",
    "'''\n",
    "\n",
    "def drop_non_latin_rus(items, domain, lang_percent=80):\n",
    "    symb_count_all = 0\n",
    "    symb_count_fit = 0\n",
    "    \n",
    "    if not items:\n",
    "        return [(' ', 0, domain),] # adds empty record with specified domain \n",
    "    else:\n",
    "        for item in items:\n",
    "            word = item[0]\n",
    "            word_frequency = item[1]\n",
    "            n = len(word)\n",
    "            N = 0\n",
    "            for c in word:\n",
    "                x = ord(c)\n",
    "                if ((x >= 0x0000 and x <= 0x02AF)    # below are blocks of Latin script in Unicode\n",
    "                    or (x >= 0x1D00 and x <= 0x1DBF) # https://en.wikipedia.org/wiki/Latin_script_in_Unicode\n",
    "                    or (x >= 0x1E00 and x <= 0x1EFF)\n",
    "                    or (x >= 0x2070 and x <= 0x209F)\n",
    "                    or (x >= 0x2100 and x <= 0x218F)\n",
    "                    or (x >= 0x2C60 and x <= 0x2C7F)\n",
    "                    or (x >= 0xA720 and x <= 0xA7FF)\n",
    "                    or (x >= 0xAB30 and x <= 0xAB6F)\n",
    "                    or (x >= 0xFB00 and x <= 0xFB06)\n",
    "                    or (x >= 0xFF00 and x <= 0xFF64)\n",
    "                    or (x >= 0x2460 and x <= 0x24FF) # https://en.wikipedia.org/wiki/Enclosed_Alphanumerics\n",
    "                    or (x >= 0x3248 and x <= 0x325F) # https://en.wikipedia.org/wiki/Enclosed_CJK_Letters_and_Months\n",
    "                    or (x >= 0x32B1 and x <= 0x32BF) # continue\n",
    "                    or (x >= 0x1D400 and x <= 0x1D7FF)#https://en.wikipedia.org/wiki/Mathematical_Alphanumeric_Symbols\n",
    "                    or (x >= 0x1F100 and x <= 0x1F1FF)\n",
    "                    or (x >= 0xA4D0 and x <= 0xA4FF) # https://en.wikipedia.org/wiki/Lisu_(Unicode_block)\n",
    "                    \n",
    "                    or (x >= 0x0400 and x <= 0x052F) # below are blocks of Cyrillic script in Unicode\n",
    "                    or (x >= 0x2DE0 and x <= 0x2DFF) # https://en.wikipedia.org/wiki/Cyrillic_script_in_Unicode\n",
    "                    or (x >= 0xA640 and x <= 0xA69F)\n",
    "                    or (x >= 0x1C80 and x <= 0x1C8F)\n",
    "                    \n",
    "                    or (chr(x) in dashes_set)\n",
    "                    or (chr(x) == period)\n",
    "                    or (chr(x) == ampersand)\n",
    "                    or (chr(x) in apostrophe_set)\n",
    "                    or (chr(x) in digits_set)\n",
    "                   ):\n",
    "                    N += 1\n",
    "                else:\n",
    "                    N += 0\n",
    "                print(c, n, N, word_frequency)\n",
    "            else:\n",
    "                symb_count_all += n * word_frequency\n",
    "                symb_count_fit += N * word_frequency\n",
    "            \n",
    "            print(item, n, N, word_frequency, symb_count_all, symb_count_fit)\n",
    "        else:\n",
    "            prc_fit = symb_count_fit / symb_count_all * 100\n",
    "            \n",
    "            if prc_fit >= lang_percent:\n",
    "                return items\n",
    "            else:\n",
    "                return []"
   ]
  },
  {
   "cell_type": "code",
   "execution_count": null,
   "metadata": {
    "scrolled": true
   },
   "outputs": [],
   "source": [
    "drop_non_latin_rus(fr_items, 'http://06-400.pl', 80)"
   ]
  },
  {
   "cell_type": "code",
   "execution_count": null,
   "metadata": {},
   "outputs": [],
   "source": [
    "fr_items = [('pole', 4, 'http://06-400.pl'), ('wymagane', 4, 'http://06-400.pl'), ('aktualności', 3, 'http://06-400.pl'), ('polityka', 3, 'http://06-400.pl'), ('rozrywka', 3, 'http://06-400.pl'), ('blogi', 3, 'http://06-400.pl'), ('się', 3, 'http://06-400.pl'), ('i', 3, 'http://06-400.pl'), ('pl', 2, 'http://06-400.pl'), ('stefan', 2, 'http://06-400.pl'), ('żagiel', 2, 'http://06-400.pl'), ('zdzisław', 2, 'http://06-400.pl'), ('blady', 2, 'http://06-400.pl'), ('bieńkowski', 2, 'http://06-400.pl'), ('krzysztof', 2, 'http://06-400.pl'), ('oko.press', 2, 'http://06-400.pl'), ('ciechanowianie', 2, 'http://06-400.pl'), ('zielona', 2, 'http://06-400.pl'), ('zaraza', 2, 'http://06-400.pl'), ('jacek', 2, 'http://06-400.pl'), ('eryk', 2, 'http://06-400.pl'), ('szukaj', 2, 'http://06-400.pl'), ('bloga', 2, 'http://06-400.pl'), ('e-mail', 2, 'http://06-400.pl'), ('wybierz', 2, 'http://06-400.pl'), ('do', 2, 'http://06-400.pl'), ('not', 2, 'http://06-400.pl'), ('fill', 2, 'http://06-400.pl'), ('in', 2, 'http://06-400.pl'), ('this', 2, 'http://06-400.pl'), ('field', 2, 'http://06-400.pl'), ('zapisz', 2, 'http://06-400.pl'), ('własny', 1, 'http://06-400.pl'), ('blog', 1, 'http://06-400.pl'), ('ciechanów', 1, 'http://06-400.pl'), ('informacje', 1, 'http://06-400.pl'), ('insert_email', 1, 'http://06-400.pl'), ('insert_phone', 1, 'http://06-400.pl'), ('menu', 1, 'http://06-400.pl'), ('expand_more', 1, 'http://06-400.pl'), ('arrow_drop_down', 1, 'http://06-400.pl'), ('search', 1, 'http://06-400.pl'), ('słowa', 1, 'http://06-400.pl'), ('kluczowe', 1, 'http://06-400.pl'), ('chcesz', 1, 'http://06-400.pl'), ('pisać', 1, 'http://06-400.pl'), ('u', 1, 'http://06-400.pl'), ('nas', 1, 'http://06-400.pl'), ('nic', 1, 'http://06-400.pl'), ('prostszego', 1, 'http://06-400.pl'), ('wypełnij', 1, 'http://06-400.pl'), ('krótki', 1, 'http://06-400.pl'), ('formularz', 1, 'http://06-400.pl'), ('a', 1, 'http://06-400.pl'), ('skontaktujemy', 1, 'http://06-400.pl'), ('z', 1, 'http://06-400.pl'), ('tobą', 1, 'http://06-400.pl'), ('imię', 1, 'http://06-400.pl'), ('nazwisko', 1, 'http://06-400.pl'), ('telefon', 1, 'http://06-400.pl'), ('kontaktowy', 1, 'http://06-400.pl'), ('tematykę', 1, 'http://06-400.pl'), ('region', 1, 'http://06-400.pl'), ('różności', 1, 'http://06-400.pl'), ('informacja', 1, 'http://06-400.pl'), ('prosimy', 1, 'http://06-400.pl'), ('dodać', 1, 'http://06-400.pl'), ('wyślij', 1, 'http://06-400.pl'), ('na', 1, 'http://06-400.pl')]"
   ]
  },
  {
   "cell_type": "code",
   "execution_count": null,
   "metadata": {},
   "outputs": [],
   "source": [
    "fr_items"
   ]
  },
  {
   "cell_type": "code",
   "execution_count": null,
   "metadata": {},
   "outputs": [],
   "source": []
  },
  {
   "cell_type": "code",
   "execution_count": null,
   "metadata": {},
   "outputs": [],
   "source": [
    "# test\n",
    "ctx = clean_text(\" j﹠kг�г＆zＥjk﹑k&z☂z⢪j ⊘a⊙ja←a ↑a→a↓a↔a↕a \\\\a//a'z,a‵k,a’g,a‘h,a´q,a`u,a′p.ha–b,a—z,a―g,a−y,a‐j,a─u,a⁃p,a-ig&mdash;ga&ndash;ф&amp;ф&aԚa🇶aꓔꓕz🄀a🄶aⱢ🅤a⑴a a𝖠𝟴𝗔a㈑a㈃a㉖a㉈a a㋂a aⓚb⓷ba ␢z②a⒥a㏈z k㏒z⒈k a㎰a㎉aＢ年 H₠₡a␢a₢a₣a₤₥₦₧₨₩₪₫€₭₮₯₰₱₲₳₴₵₶₷₸₹₺₻₼₽₾₿H₤a￦a￠a￩z⅗zℎ℁vℊa₤a℀a˹sk®n¬a.b`a_1(Boeing)在查尔斯顿附近时，曾宣扬这里造中心\")"
   ]
  },
  {
   "cell_type": "code",
   "execution_count": null,
   "metadata": {},
   "outputs": [],
   "source": [
    "ctx"
   ]
  },
  {
   "cell_type": "code",
   "execution_count": null,
   "metadata": {},
   "outputs": [],
   "source": [
    "ctx = '扬aaab 扬aaab 扬aaab fif iaa1l fj2j 扬aaab 扬aaab 扬aaab fif iaa1l fj2j ljd 9jf3a jf3fl jj7f ksi6j jif. fiff a al fijj lijd 9jfa jffl jjf ksj jf.fff aal fjj ljd 9jfa jffl jjf k7sj 7jf.fff aal fjj ljd 9jfa jfflt jjtf kstj jf.fftf atal tfjj tljd 9jfa jffl jjf ksj jf.fff aal fjj ljd 9jfa tjffl jjft ksj jf.fff aal fjj ljdt 9jfa hh hh s f uu pp aa ghgh ghg ghjffl fjjf k6sfj jf.f6ff a6tfal 7fjj l8jd 91jfa j1ffyl jj1yf ksy1j jf1.ff1f 7a1a1lljd 9jf3a jf3fl jj7f ksi6j jif. fiff a al fijj lijd 9jfa jffl jjf ksj jf.fff aal fjj ljd 9jfa jffl jjf k7sj 7jf.fff aal fjj ljd 9jfa jfflt jjtf kstj jf.fftf atal tfjj tljd 9jfa jffl jjf ksj jf.fff aal fjj ljd 9jfa tjffl jjft ksj jf.fff aal fjj ljdt 9jfa jffl fjjf k6sfj jf.f6ff a6tfal 7fjj l8jd 91jfa j1ffyl jj1yf ksy1j jf1.ff1f 7a1a1l f17jj lj7d 9jfa jfjfl jljf lksj jlf.f'"
   ]
  },
  {
   "cell_type": "code",
   "execution_count": null,
   "metadata": {},
   "outputs": [],
   "source": [
    "ctx = '尔斯顿dddddddd附近时 fs尔斯顿ddd附近dd时 ffff尔斯dddd顿附 近时 '"
   ]
  },
  {
   "cell_type": "code",
   "execution_count": null,
   "metadata": {},
   "outputs": [],
   "source": [
    "ctx = ''"
   ]
  },
  {
   "cell_type": "code",
   "execution_count": null,
   "metadata": {},
   "outputs": [],
   "source": [
    "a = fr_dist_with_domain(ctx, 'https://test.com', 90, 1, 0, 40)"
   ]
  },
  {
   "cell_type": "code",
   "execution_count": null,
   "metadata": {},
   "outputs": [],
   "source": [
    "a"
   ]
  },
  {
   "cell_type": "code",
   "execution_count": null,
   "metadata": {},
   "outputs": [],
   "source": []
  }
 ],
 "metadata": {
  "kernelspec": {
   "display_name": "Python 3",
   "language": "python",
   "name": "python3"
  },
  "language_info": {
   "codemirror_mode": {
    "name": "ipython",
    "version": 3
   },
   "file_extension": ".py",
   "mimetype": "text/x-python",
   "name": "python",
   "nbconvert_exporter": "python",
   "pygments_lexer": "ipython3",
   "version": "3.7.3"
  }
 },
 "nbformat": 4,
 "nbformat_minor": 4
}
